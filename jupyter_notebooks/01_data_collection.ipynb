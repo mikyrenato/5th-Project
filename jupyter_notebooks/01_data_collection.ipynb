{
 "cells": [
  {
   "attachments": {},
   "cell_type": "markdown",
   "metadata": {},
   "source": [
    "# Data Collection Notebook"
   ]
  },
  {
   "attachments": {},
   "cell_type": "markdown",
   "metadata": {},
   "source": [
    "### Objectives:\n",
    "\n",
    "+ Download the data from Kaggle and store it in raw format.\n",
    "+ Analyze and examine the data, and store it in the directory inputs/datasets/raw.\n",
    "+ Upload the data files to the Github repository.\n"
   ]
  },
  {
   "attachments": {},
   "cell_type": "markdown",
   "metadata": {},
   "source": [
    "### Inputs:\n",
    "\n",
    "+ Kaggle JSON authentication token.\n",
    "+ Downloaded the house price dataset from [Kaggle](https://www.kaggle.com/datasets/codeinstitute/housing-prices-data)."
   ]
  },
  {
   "attachments": {},
   "cell_type": "markdown",
   "metadata": {},
   "source": [
    "### Outputs:\n",
    "\n",
    "+ The Kaggle files have been unzipped to:\n",
    "  * inputs/datasets/raw/"
   ]
  },
  {
   "attachments": {},
   "cell_type": "markdown",
   "metadata": {},
   "source": [
    "___"
   ]
  },
  {
   "attachments": {},
   "cell_type": "markdown",
   "metadata": {},
   "source": [
    "## Change working directory:\n",
    "\n",
    "This action will navigate from the current directory to its parent folder:\n",
    "\n",
    "+ Access the current directory with os.getcwd()."
   ]
  },
  {
   "cell_type": "code",
   "execution_count": 1,
   "metadata": {},
   "outputs": [
    {
     "data": {
      "text/plain": [
       "'/workspace/5th-Project/jupyter_notebooks'"
      ]
     },
     "execution_count": 1,
     "metadata": {},
     "output_type": "execute_result"
    }
   ],
   "source": [
    "import os\n",
    "current_dir = os.getcwd()\n",
    "current_dir"
   ]
  },
  {
   "attachments": {},
   "cell_type": "markdown",
   "metadata": {},
   "source": [
    "Our objective is to set the parent directory of the current folder as the new working directory.\n",
    "\n",
    "+ os.path.dirname() gets the parent directory.\n",
    "+ os.chir() defines the new current directory."
   ]
  },
  {
   "cell_type": "code",
   "execution_count": 2,
   "metadata": {},
   "outputs": [
    {
     "name": "stdout",
     "output_type": "stream",
     "text": [
      "You have now set a new current directory\n"
     ]
    }
   ],
   "source": [
    "os.chdir(os.path.dirname(current_dir))\n",
    "print(\"You have now set a new current directory\")"
   ]
  },
  {
   "attachments": {},
   "cell_type": "markdown",
   "metadata": {},
   "source": [
    "Confirm the new current directory:"
   ]
  },
  {
   "cell_type": "code",
   "execution_count": 3,
   "metadata": {},
   "outputs": [
    {
     "data": {
      "text/plain": [
       "'/workspace/5th-Project'"
      ]
     },
     "execution_count": 3,
     "metadata": {},
     "output_type": "execute_result"
    }
   ],
   "source": [
    "current_dir = os.getcwd()\n",
    "current_dir"
   ]
  },
  {
   "attachments": {},
   "cell_type": "markdown",
   "metadata": {},
   "source": [
    "## Fetch data from Kaggle\n",
    "\n",
    "+ Install Kaggle library with the below command:"
   ]
  },
  {
   "cell_type": "code",
   "execution_count": 4,
   "metadata": {},
   "outputs": [
    {
     "name": "stdout",
     "output_type": "stream",
     "text": [
      "Collecting kaggle==1.5.12\n",
      "  Downloading kaggle-1.5.12.tar.gz (58 kB)\n",
      "\u001b[2K     \u001b[90m━━━━━━━━━━━━━━━━━━━━━━━━━━━━━━━━━━━━━━━━\u001b[0m \u001b[32m59.0/59.0 kB\u001b[0m \u001b[31m2.1 MB/s\u001b[0m eta \u001b[36m0:00:00\u001b[0m\n",
      "\u001b[?25h  Preparing metadata (setup.py) ... \u001b[?25ldone\n",
      "\u001b[?25hRequirement already satisfied: six>=1.10 in /home/gitpod/.pyenv/versions/3.11.1/lib/python3.11/site-packages (from kaggle==1.5.12) (1.16.0)\n",
      "Requirement already satisfied: certifi in /home/gitpod/.pyenv/versions/3.11.1/lib/python3.11/site-packages (from kaggle==1.5.12) (2022.12.7)\n",
      "Requirement already satisfied: python-dateutil in /home/gitpod/.pyenv/versions/3.11.1/lib/python3.11/site-packages (from kaggle==1.5.12) (2.8.2)\n",
      "Requirement already satisfied: requests in /home/gitpod/.pyenv/versions/3.11.1/lib/python3.11/site-packages (from kaggle==1.5.12) (2.28.2)\n",
      "Requirement already satisfied: tqdm in /workspace/.pyenv_mirror/user/current/lib/python3.11/site-packages (from kaggle==1.5.12) (4.65.0)\n",
      "Collecting python-slugify\n",
      "  Downloading python_slugify-8.0.1-py2.py3-none-any.whl (9.7 kB)\n",
      "Requirement already satisfied: urllib3 in /home/gitpod/.pyenv/versions/3.11.1/lib/python3.11/site-packages (from kaggle==1.5.12) (1.26.15)\n",
      "Collecting text-unidecode>=1.3\n",
      "  Downloading text_unidecode-1.3-py2.py3-none-any.whl (78 kB)\n",
      "\u001b[2K     \u001b[90m━━━━━━━━━━━━━━━━━━━━━━━━━━━━━━━━━━━━━━━━\u001b[0m \u001b[32m78.2/78.2 kB\u001b[0m \u001b[31m5.3 MB/s\u001b[0m eta \u001b[36m0:00:00\u001b[0m\n",
      "\u001b[?25hRequirement already satisfied: charset-normalizer<4,>=2 in /home/gitpod/.pyenv/versions/3.11.1/lib/python3.11/site-packages (from requests->kaggle==1.5.12) (3.1.0)\n",
      "Requirement already satisfied: idna<4,>=2.5 in /home/gitpod/.pyenv/versions/3.11.1/lib/python3.11/site-packages (from requests->kaggle==1.5.12) (3.4)\n",
      "Building wheels for collected packages: kaggle\n",
      "  Building wheel for kaggle (setup.py) ... \u001b[?25ldone\n",
      "\u001b[?25h  Created wheel for kaggle: filename=kaggle-1.5.12-py3-none-any.whl size=73031 sha256=dfeeee3f854b6dfda526b7cd77ec09e2f654ac48bcd2b7ce25907caf40caba35\n",
      "  Stored in directory: /workspace/.pyenv_mirror/pip_cache/wheels/2e/27/39/f44e52756a6407b444143f233abe9fda0e18a23e8b20e0cd1c\n",
      "Successfully built kaggle\n",
      "Installing collected packages: text-unidecode, python-slugify, kaggle\n",
      "Successfully installed kaggle-1.5.12 python-slugify-8.0.1 text-unidecode-1.3\n",
      "\n",
      "\u001b[1m[\u001b[0m\u001b[34;49mnotice\u001b[0m\u001b[1;39;49m]\u001b[0m\u001b[39;49m A new release of pip is available: \u001b[0m\u001b[31;49m23.0.1\u001b[0m\u001b[39;49m -> \u001b[0m\u001b[32;49m23.1.2\u001b[0m\n",
      "\u001b[1m[\u001b[0m\u001b[34;49mnotice\u001b[0m\u001b[1;39;49m]\u001b[0m\u001b[39;49m To update, run: \u001b[0m\u001b[32;49mpip install --upgrade pip\u001b[0m\n"
     ]
    }
   ],
   "source": [
    "! pip3 install kaggle==1.5.12"
   ]
  },
  {
   "attachments": {},
   "cell_type": "markdown",
   "metadata": {},
   "source": [
    "* To proceed, a Kaggle account is necessary as data usage is restricted without one.\n",
    "* Once an account has been created, the user can download a Kaggle.json file which contains an authentication token.\n",
    "* This token is required for data download authentication from Kaggle and should be copied to the root directory of the project repository.\n",
    "* The user should set the Kaggle environment variable and permission to the token file to allow for read and write access."
   ]
  },
  {
   "cell_type": "code",
   "execution_count": 6,
   "metadata": {},
   "outputs": [],
   "source": [
    "import os\n",
    "os.environ['KAGGLE_CONFIG_DIR'] = os.getcwd()\n",
    "! chmod 600 kaggle.json"
   ]
  },
  {
   "attachments": {},
   "cell_type": "markdown",
   "metadata": {},
   "source": [
    "* Get the dataset path from the kaggle url."
   ]
  },
  {
   "cell_type": "code",
   "execution_count": 7,
   "metadata": {},
   "outputs": [
    {
     "name": "stdout",
     "output_type": "stream",
     "text": [
      "Downloading housing-prices-data.zip to inputs/datasets/raw\n",
      "  0%|                                               | 0.00/49.6k [00:00<?, ?B/s]\n",
      "100%|██████████████████████████████████████| 49.6k/49.6k [00:00<00:00, 5.57MB/s]\n"
     ]
    }
   ],
   "source": [
    "KaggleDatasetPath = \"codeinstitute/housing-prices-data\"\n",
    "DestinationFolder = \"inputs/datasets/raw\"\n",
    "! kaggle datasets download -d {KaggleDatasetPath} -p {DestinationFolder}"
   ]
  },
  {
   "attachments": {},
   "cell_type": "markdown",
   "metadata": {},
   "source": [
    "* The dataset has been downloaded into a zip file which will need to be unzipped to be used. \n"
   ]
  },
  {
   "cell_type": "code",
   "execution_count": 8,
   "metadata": {},
   "outputs": [
    {
     "name": "stdout",
     "output_type": "stream",
     "text": [
      "Archive:  inputs/datasets/raw/housing-prices-data.zip\n",
      "  inflating: inputs/datasets/raw/house-metadata.txt  \n",
      "  inflating: inputs/datasets/raw/house-price-20211124T154130Z-001/house-price/house_prices_records.csv  \n",
      "  inflating: inputs/datasets/raw/house-price-20211124T154130Z-001/house-price/inherited_houses.csv  \n"
     ]
    }
   ],
   "source": [
    "! unzip {DestinationFolder}/*.zip -d {DestinationFolder} \\\n",
    "    && rm {DestinationFolder}/*.zip \\\n",
    "    && rm kaggle.json"
   ]
  },
  {
   "cell_type": "code",
   "execution_count": 9,
   "metadata": {},
   "outputs": [
    {
     "name": "stdout",
     "output_type": "stream",
     "text": [
      "Found existing installation: kaggle 1.5.12\n",
      "Uninstalling kaggle-1.5.12:\n",
      "  Successfully uninstalled kaggle-1.5.12\n"
     ]
    }
   ],
   "source": [
    "! pip3 uninstall -y kaggle==1.5.12"
   ]
  },
  {
   "attachments": {},
   "cell_type": "markdown",
   "metadata": {},
   "source": [
    "___"
   ]
  },
  {
   "attachments": {},
   "cell_type": "markdown",
   "metadata": {},
   "source": [
    "## Import packages and set environment variables:"
   ]
  },
  {
   "cell_type": "code",
   "execution_count": 10,
   "metadata": {},
   "outputs": [],
   "source": [
    "import pandas as pd\n",
    "pd.options.display.max_columns = None\n",
    "pd.options.display.max_rows = None"
   ]
  },
  {
   "attachments": {},
   "cell_type": "markdown",
   "metadata": {},
   "source": [
    "___\n"
   ]
  },
  {
   "attachments": {},
   "cell_type": "markdown",
   "metadata": {},
   "source": [
    "## Load and Inspect the House Price Records:\n",
    "\n",
    "* Read and observe the house_prices_records dataset csv file into a Pandas dataframe."
   ]
  },
  {
   "cell_type": "code",
   "execution_count": 11,
   "metadata": {},
   "outputs": [
    {
     "name": "stdout",
     "output_type": "stream",
     "text": [
      "(1460, 24)\n"
     ]
    },
    {
     "data": {
      "text/html": [
       "<div>\n",
       "<style scoped>\n",
       "    .dataframe tbody tr th:only-of-type {\n",
       "        vertical-align: middle;\n",
       "    }\n",
       "\n",
       "    .dataframe tbody tr th {\n",
       "        vertical-align: top;\n",
       "    }\n",
       "\n",
       "    .dataframe thead th {\n",
       "        text-align: right;\n",
       "    }\n",
       "</style>\n",
       "<table border=\"1\" class=\"dataframe\">\n",
       "  <thead>\n",
       "    <tr style=\"text-align: right;\">\n",
       "      <th></th>\n",
       "      <th>1stFlrSF</th>\n",
       "      <th>2ndFlrSF</th>\n",
       "      <th>BedroomAbvGr</th>\n",
       "      <th>BsmtExposure</th>\n",
       "      <th>BsmtFinSF1</th>\n",
       "      <th>BsmtFinType1</th>\n",
       "      <th>BsmtUnfSF</th>\n",
       "      <th>EnclosedPorch</th>\n",
       "      <th>GarageArea</th>\n",
       "      <th>GarageFinish</th>\n",
       "      <th>GarageYrBlt</th>\n",
       "      <th>GrLivArea</th>\n",
       "      <th>KitchenQual</th>\n",
       "      <th>LotArea</th>\n",
       "      <th>LotFrontage</th>\n",
       "      <th>MasVnrArea</th>\n",
       "      <th>OpenPorchSF</th>\n",
       "      <th>OverallCond</th>\n",
       "      <th>OverallQual</th>\n",
       "      <th>TotalBsmtSF</th>\n",
       "      <th>WoodDeckSF</th>\n",
       "      <th>YearBuilt</th>\n",
       "      <th>YearRemodAdd</th>\n",
       "      <th>SalePrice</th>\n",
       "    </tr>\n",
       "  </thead>\n",
       "  <tbody>\n",
       "    <tr>\n",
       "      <th>0</th>\n",
       "      <td>856</td>\n",
       "      <td>854.0</td>\n",
       "      <td>3.0</td>\n",
       "      <td>No</td>\n",
       "      <td>706</td>\n",
       "      <td>GLQ</td>\n",
       "      <td>150</td>\n",
       "      <td>0.0</td>\n",
       "      <td>548</td>\n",
       "      <td>RFn</td>\n",
       "      <td>2003.0</td>\n",
       "      <td>1710</td>\n",
       "      <td>Gd</td>\n",
       "      <td>8450</td>\n",
       "      <td>65.0</td>\n",
       "      <td>196.0</td>\n",
       "      <td>61</td>\n",
       "      <td>5</td>\n",
       "      <td>7</td>\n",
       "      <td>856</td>\n",
       "      <td>0.0</td>\n",
       "      <td>2003</td>\n",
       "      <td>2003</td>\n",
       "      <td>208500</td>\n",
       "    </tr>\n",
       "    <tr>\n",
       "      <th>1</th>\n",
       "      <td>1262</td>\n",
       "      <td>0.0</td>\n",
       "      <td>3.0</td>\n",
       "      <td>Gd</td>\n",
       "      <td>978</td>\n",
       "      <td>ALQ</td>\n",
       "      <td>284</td>\n",
       "      <td>NaN</td>\n",
       "      <td>460</td>\n",
       "      <td>RFn</td>\n",
       "      <td>1976.0</td>\n",
       "      <td>1262</td>\n",
       "      <td>TA</td>\n",
       "      <td>9600</td>\n",
       "      <td>80.0</td>\n",
       "      <td>0.0</td>\n",
       "      <td>0</td>\n",
       "      <td>8</td>\n",
       "      <td>6</td>\n",
       "      <td>1262</td>\n",
       "      <td>NaN</td>\n",
       "      <td>1976</td>\n",
       "      <td>1976</td>\n",
       "      <td>181500</td>\n",
       "    </tr>\n",
       "    <tr>\n",
       "      <th>2</th>\n",
       "      <td>920</td>\n",
       "      <td>866.0</td>\n",
       "      <td>3.0</td>\n",
       "      <td>Mn</td>\n",
       "      <td>486</td>\n",
       "      <td>GLQ</td>\n",
       "      <td>434</td>\n",
       "      <td>0.0</td>\n",
       "      <td>608</td>\n",
       "      <td>RFn</td>\n",
       "      <td>2001.0</td>\n",
       "      <td>1786</td>\n",
       "      <td>Gd</td>\n",
       "      <td>11250</td>\n",
       "      <td>68.0</td>\n",
       "      <td>162.0</td>\n",
       "      <td>42</td>\n",
       "      <td>5</td>\n",
       "      <td>7</td>\n",
       "      <td>920</td>\n",
       "      <td>NaN</td>\n",
       "      <td>2001</td>\n",
       "      <td>2002</td>\n",
       "      <td>223500</td>\n",
       "    </tr>\n",
       "    <tr>\n",
       "      <th>3</th>\n",
       "      <td>961</td>\n",
       "      <td>NaN</td>\n",
       "      <td>NaN</td>\n",
       "      <td>No</td>\n",
       "      <td>216</td>\n",
       "      <td>ALQ</td>\n",
       "      <td>540</td>\n",
       "      <td>NaN</td>\n",
       "      <td>642</td>\n",
       "      <td>Unf</td>\n",
       "      <td>1998.0</td>\n",
       "      <td>1717</td>\n",
       "      <td>Gd</td>\n",
       "      <td>9550</td>\n",
       "      <td>60.0</td>\n",
       "      <td>0.0</td>\n",
       "      <td>35</td>\n",
       "      <td>5</td>\n",
       "      <td>7</td>\n",
       "      <td>756</td>\n",
       "      <td>NaN</td>\n",
       "      <td>1915</td>\n",
       "      <td>1970</td>\n",
       "      <td>140000</td>\n",
       "    </tr>\n",
       "    <tr>\n",
       "      <th>4</th>\n",
       "      <td>1145</td>\n",
       "      <td>NaN</td>\n",
       "      <td>4.0</td>\n",
       "      <td>Av</td>\n",
       "      <td>655</td>\n",
       "      <td>GLQ</td>\n",
       "      <td>490</td>\n",
       "      <td>0.0</td>\n",
       "      <td>836</td>\n",
       "      <td>RFn</td>\n",
       "      <td>2000.0</td>\n",
       "      <td>2198</td>\n",
       "      <td>Gd</td>\n",
       "      <td>14260</td>\n",
       "      <td>84.0</td>\n",
       "      <td>350.0</td>\n",
       "      <td>84</td>\n",
       "      <td>5</td>\n",
       "      <td>8</td>\n",
       "      <td>1145</td>\n",
       "      <td>NaN</td>\n",
       "      <td>2000</td>\n",
       "      <td>2000</td>\n",
       "      <td>250000</td>\n",
       "    </tr>\n",
       "  </tbody>\n",
       "</table>\n",
       "</div>"
      ],
      "text/plain": [
       "   1stFlrSF  2ndFlrSF  BedroomAbvGr BsmtExposure  BsmtFinSF1 BsmtFinType1  \\\n",
       "0       856     854.0           3.0           No         706          GLQ   \n",
       "1      1262       0.0           3.0           Gd         978          ALQ   \n",
       "2       920     866.0           3.0           Mn         486          GLQ   \n",
       "3       961       NaN           NaN           No         216          ALQ   \n",
       "4      1145       NaN           4.0           Av         655          GLQ   \n",
       "\n",
       "   BsmtUnfSF  EnclosedPorch  GarageArea GarageFinish  GarageYrBlt  GrLivArea  \\\n",
       "0        150            0.0         548          RFn       2003.0       1710   \n",
       "1        284            NaN         460          RFn       1976.0       1262   \n",
       "2        434            0.0         608          RFn       2001.0       1786   \n",
       "3        540            NaN         642          Unf       1998.0       1717   \n",
       "4        490            0.0         836          RFn       2000.0       2198   \n",
       "\n",
       "  KitchenQual  LotArea  LotFrontage  MasVnrArea  OpenPorchSF  OverallCond  \\\n",
       "0          Gd     8450         65.0       196.0           61            5   \n",
       "1          TA     9600         80.0         0.0            0            8   \n",
       "2          Gd    11250         68.0       162.0           42            5   \n",
       "3          Gd     9550         60.0         0.0           35            5   \n",
       "4          Gd    14260         84.0       350.0           84            5   \n",
       "\n",
       "   OverallQual  TotalBsmtSF  WoodDeckSF  YearBuilt  YearRemodAdd  SalePrice  \n",
       "0            7          856         0.0       2003          2003     208500  \n",
       "1            6         1262         NaN       1976          1976     181500  \n",
       "2            7          920         NaN       2001          2002     223500  \n",
       "3            7          756         NaN       1915          1970     140000  \n",
       "4            8         1145         NaN       2000          2000     250000  "
      ]
     },
     "execution_count": 11,
     "metadata": {},
     "output_type": "execute_result"
    }
   ],
   "source": [
    "df = pd.read_csv(f\"inputs/datasets/raw/house-price-20211124T154130Z-001/house-price/house_prices_records.csv\")\n",
    "print(df.shape)\n",
    "df.head()"
   ]
  },
  {
   "attachments": {},
   "cell_type": "markdown",
   "metadata": {},
   "source": [
    "* This will display the data summary information."
   ]
  },
  {
   "cell_type": "code",
   "execution_count": 12,
   "metadata": {},
   "outputs": [
    {
     "name": "stdout",
     "output_type": "stream",
     "text": [
      "<class 'pandas.core.frame.DataFrame'>\n",
      "RangeIndex: 1460 entries, 0 to 1459\n",
      "Data columns (total 24 columns):\n",
      " #   Column         Non-Null Count  Dtype  \n",
      "---  ------         --------------  -----  \n",
      " 0   1stFlrSF       1460 non-null   int64  \n",
      " 1   2ndFlrSF       1374 non-null   float64\n",
      " 2   BedroomAbvGr   1361 non-null   float64\n",
      " 3   BsmtExposure   1460 non-null   object \n",
      " 4   BsmtFinSF1     1460 non-null   int64  \n",
      " 5   BsmtFinType1   1346 non-null   object \n",
      " 6   BsmtUnfSF      1460 non-null   int64  \n",
      " 7   EnclosedPorch  136 non-null    float64\n",
      " 8   GarageArea     1460 non-null   int64  \n",
      " 9   GarageFinish   1298 non-null   object \n",
      " 10  GarageYrBlt    1379 non-null   float64\n",
      " 11  GrLivArea      1460 non-null   int64  \n",
      " 12  KitchenQual    1460 non-null   object \n",
      " 13  LotArea        1460 non-null   int64  \n",
      " 14  LotFrontage    1201 non-null   float64\n",
      " 15  MasVnrArea     1452 non-null   float64\n",
      " 16  OpenPorchSF    1460 non-null   int64  \n",
      " 17  OverallCond    1460 non-null   int64  \n",
      " 18  OverallQual    1460 non-null   int64  \n",
      " 19  TotalBsmtSF    1460 non-null   int64  \n",
      " 20  WoodDeckSF     155 non-null    float64\n",
      " 21  YearBuilt      1460 non-null   int64  \n",
      " 22  YearRemodAdd   1460 non-null   int64  \n",
      " 23  SalePrice      1460 non-null   int64  \n",
      "dtypes: float64(7), int64(13), object(4)\n",
      "memory usage: 273.9+ KB\n"
     ]
    }
   ],
   "source": [
    "df.info()"
   ]
  },
  {
   "attachments": {},
   "cell_type": "markdown",
   "metadata": {},
   "source": [
    "___"
   ]
  },
  {
   "attachments": {},
   "cell_type": "markdown",
   "metadata": {},
   "source": [
    "## Load and inspect the inherited house records:\n",
    "\n",
    "* Once the House Price Records have been checked, the next step is to conduct checks on the Inherited house records:\n",
    "   - Load the \"inherited_houses\" dataset CSV file into a Pandas dataframe for a better understanding of the data."
   ]
  },
  {
   "cell_type": "code",
   "execution_count": 14,
   "metadata": {},
   "outputs": [
    {
     "name": "stdout",
     "output_type": "stream",
     "text": [
      "(4, 23)\n"
     ]
    },
    {
     "data": {
      "text/html": [
       "<div>\n",
       "<style scoped>\n",
       "    .dataframe tbody tr th:only-of-type {\n",
       "        vertical-align: middle;\n",
       "    }\n",
       "\n",
       "    .dataframe tbody tr th {\n",
       "        vertical-align: top;\n",
       "    }\n",
       "\n",
       "    .dataframe thead th {\n",
       "        text-align: right;\n",
       "    }\n",
       "</style>\n",
       "<table border=\"1\" class=\"dataframe\">\n",
       "  <thead>\n",
       "    <tr style=\"text-align: right;\">\n",
       "      <th></th>\n",
       "      <th>1stFlrSF</th>\n",
       "      <th>2ndFlrSF</th>\n",
       "      <th>BedroomAbvGr</th>\n",
       "      <th>BsmtExposure</th>\n",
       "      <th>BsmtFinSF1</th>\n",
       "      <th>BsmtFinType1</th>\n",
       "      <th>BsmtUnfSF</th>\n",
       "      <th>EnclosedPorch</th>\n",
       "      <th>GarageArea</th>\n",
       "      <th>GarageFinish</th>\n",
       "      <th>GarageYrBlt</th>\n",
       "      <th>GrLivArea</th>\n",
       "      <th>KitchenQual</th>\n",
       "      <th>LotArea</th>\n",
       "      <th>LotFrontage</th>\n",
       "      <th>MasVnrArea</th>\n",
       "      <th>OpenPorchSF</th>\n",
       "      <th>OverallCond</th>\n",
       "      <th>OverallQual</th>\n",
       "      <th>TotalBsmtSF</th>\n",
       "      <th>WoodDeckSF</th>\n",
       "      <th>YearBuilt</th>\n",
       "      <th>YearRemodAdd</th>\n",
       "    </tr>\n",
       "  </thead>\n",
       "  <tbody>\n",
       "    <tr>\n",
       "      <th>0</th>\n",
       "      <td>896</td>\n",
       "      <td>0</td>\n",
       "      <td>2</td>\n",
       "      <td>No</td>\n",
       "      <td>468.0</td>\n",
       "      <td>Rec</td>\n",
       "      <td>270.0</td>\n",
       "      <td>0</td>\n",
       "      <td>730.0</td>\n",
       "      <td>Unf</td>\n",
       "      <td>1961.0</td>\n",
       "      <td>896</td>\n",
       "      <td>TA</td>\n",
       "      <td>11622</td>\n",
       "      <td>80.0</td>\n",
       "      <td>0.0</td>\n",
       "      <td>0</td>\n",
       "      <td>6</td>\n",
       "      <td>5</td>\n",
       "      <td>882.0</td>\n",
       "      <td>140</td>\n",
       "      <td>1961</td>\n",
       "      <td>1961</td>\n",
       "    </tr>\n",
       "    <tr>\n",
       "      <th>1</th>\n",
       "      <td>1329</td>\n",
       "      <td>0</td>\n",
       "      <td>3</td>\n",
       "      <td>No</td>\n",
       "      <td>923.0</td>\n",
       "      <td>ALQ</td>\n",
       "      <td>406.0</td>\n",
       "      <td>0</td>\n",
       "      <td>312.0</td>\n",
       "      <td>Unf</td>\n",
       "      <td>1958.0</td>\n",
       "      <td>1329</td>\n",
       "      <td>Gd</td>\n",
       "      <td>14267</td>\n",
       "      <td>81.0</td>\n",
       "      <td>108.0</td>\n",
       "      <td>36</td>\n",
       "      <td>6</td>\n",
       "      <td>6</td>\n",
       "      <td>1329.0</td>\n",
       "      <td>393</td>\n",
       "      <td>1958</td>\n",
       "      <td>1958</td>\n",
       "    </tr>\n",
       "    <tr>\n",
       "      <th>2</th>\n",
       "      <td>928</td>\n",
       "      <td>701</td>\n",
       "      <td>3</td>\n",
       "      <td>No</td>\n",
       "      <td>791.0</td>\n",
       "      <td>GLQ</td>\n",
       "      <td>137.0</td>\n",
       "      <td>0</td>\n",
       "      <td>482.0</td>\n",
       "      <td>Fin</td>\n",
       "      <td>1997.0</td>\n",
       "      <td>1629</td>\n",
       "      <td>TA</td>\n",
       "      <td>13830</td>\n",
       "      <td>74.0</td>\n",
       "      <td>0.0</td>\n",
       "      <td>34</td>\n",
       "      <td>5</td>\n",
       "      <td>5</td>\n",
       "      <td>928.0</td>\n",
       "      <td>212</td>\n",
       "      <td>1997</td>\n",
       "      <td>1998</td>\n",
       "    </tr>\n",
       "    <tr>\n",
       "      <th>3</th>\n",
       "      <td>926</td>\n",
       "      <td>678</td>\n",
       "      <td>3</td>\n",
       "      <td>No</td>\n",
       "      <td>602.0</td>\n",
       "      <td>GLQ</td>\n",
       "      <td>324.0</td>\n",
       "      <td>0</td>\n",
       "      <td>470.0</td>\n",
       "      <td>Fin</td>\n",
       "      <td>1998.0</td>\n",
       "      <td>1604</td>\n",
       "      <td>Gd</td>\n",
       "      <td>9978</td>\n",
       "      <td>78.0</td>\n",
       "      <td>20.0</td>\n",
       "      <td>36</td>\n",
       "      <td>6</td>\n",
       "      <td>6</td>\n",
       "      <td>926.0</td>\n",
       "      <td>360</td>\n",
       "      <td>1998</td>\n",
       "      <td>1998</td>\n",
       "    </tr>\n",
       "  </tbody>\n",
       "</table>\n",
       "</div>"
      ],
      "text/plain": [
       "   1stFlrSF  2ndFlrSF  BedroomAbvGr BsmtExposure  BsmtFinSF1 BsmtFinType1  \\\n",
       "0       896         0             2           No       468.0          Rec   \n",
       "1      1329         0             3           No       923.0          ALQ   \n",
       "2       928       701             3           No       791.0          GLQ   \n",
       "3       926       678             3           No       602.0          GLQ   \n",
       "\n",
       "   BsmtUnfSF  EnclosedPorch  GarageArea GarageFinish  GarageYrBlt  GrLivArea  \\\n",
       "0      270.0              0       730.0          Unf       1961.0        896   \n",
       "1      406.0              0       312.0          Unf       1958.0       1329   \n",
       "2      137.0              0       482.0          Fin       1997.0       1629   \n",
       "3      324.0              0       470.0          Fin       1998.0       1604   \n",
       "\n",
       "  KitchenQual  LotArea  LotFrontage  MasVnrArea  OpenPorchSF  OverallCond  \\\n",
       "0          TA    11622         80.0         0.0            0            6   \n",
       "1          Gd    14267         81.0       108.0           36            6   \n",
       "2          TA    13830         74.0         0.0           34            5   \n",
       "3          Gd     9978         78.0        20.0           36            6   \n",
       "\n",
       "   OverallQual  TotalBsmtSF  WoodDeckSF  YearBuilt  YearRemodAdd  \n",
       "0            5        882.0         140       1961          1961  \n",
       "1            6       1329.0         393       1958          1958  \n",
       "2            5        928.0         212       1997          1998  \n",
       "3            6        926.0         360       1998          1998  "
      ]
     },
     "execution_count": 14,
     "metadata": {},
     "output_type": "execute_result"
    }
   ],
   "source": [
    "df_inherited = pd.read_csv(f\"inputs/datasets/raw/house-price-20211124T154130Z-001/house-price/inherited_houses.csv\")\n",
    "print(df_inherited.shape)\n",
    "df_inherited"
   ]
  },
  {
   "attachments": {},
   "cell_type": "markdown",
   "metadata": {},
   "source": [
    "* Display the dataframe summary information: "
   ]
  },
  {
   "cell_type": "code",
   "execution_count": 16,
   "metadata": {},
   "outputs": [
    {
     "name": "stdout",
     "output_type": "stream",
     "text": [
      "<class 'pandas.core.frame.DataFrame'>\n",
      "RangeIndex: 4 entries, 0 to 3\n",
      "Data columns (total 23 columns):\n",
      " #   Column         Non-Null Count  Dtype  \n",
      "---  ------         --------------  -----  \n",
      " 0   1stFlrSF       4 non-null      int64  \n",
      " 1   2ndFlrSF       4 non-null      int64  \n",
      " 2   BedroomAbvGr   4 non-null      int64  \n",
      " 3   BsmtExposure   4 non-null      object \n",
      " 4   BsmtFinSF1     4 non-null      float64\n",
      " 5   BsmtFinType1   4 non-null      object \n",
      " 6   BsmtUnfSF      4 non-null      float64\n",
      " 7   EnclosedPorch  4 non-null      int64  \n",
      " 8   GarageArea     4 non-null      float64\n",
      " 9   GarageFinish   4 non-null      object \n",
      " 10  GarageYrBlt    4 non-null      float64\n",
      " 11  GrLivArea      4 non-null      int64  \n",
      " 12  KitchenQual    4 non-null      object \n",
      " 13  LotArea        4 non-null      int64  \n",
      " 14  LotFrontage    4 non-null      float64\n",
      " 15  MasVnrArea     4 non-null      float64\n",
      " 16  OpenPorchSF    4 non-null      int64  \n",
      " 17  OverallCond    4 non-null      int64  \n",
      " 18  OverallQual    4 non-null      int64  \n",
      " 19  TotalBsmtSF    4 non-null      float64\n",
      " 20  WoodDeckSF     4 non-null      int64  \n",
      " 21  YearBuilt      4 non-null      int64  \n",
      " 22  YearRemodAdd   4 non-null      int64  \n",
      "dtypes: float64(7), int64(12), object(4)\n",
      "memory usage: 864.0+ bytes\n"
     ]
    }
   ],
   "source": [
    "df_inherited.info()"
   ]
  },
  {
   "attachments": {},
   "cell_type": "markdown",
   "metadata": {},
   "source": [
    "___\n"
   ]
  },
  {
   "attachments": {},
   "cell_type": "markdown",
   "metadata": {},
   "source": [
    "## Conclusion and the following steps:"
   ]
  },
  {
   "attachments": {},
   "cell_type": "markdown",
   "metadata": {},
   "source": [
    "* You may observe a distinction between the extracted house price dataset and the inherited houses dataset. If not, take another look.\n",
    "   - In the house price dataset, certain features are integer type, while in the inherited house dataset, they are float type.\n",
    "   - This distinction will not impact the analysis of the data.\n",
    "   - The SalePrice feature (existing only in the house price dataset) is of integer type.\n",
    "* With the necessary data for the project now available, we can proceed to clean the data."
   ]
  }
 ],
 "metadata": {
  "kernelspec": {
   "display_name": "Python 3",
   "language": "python",
   "name": "python3"
  },
  "language_info": {
   "codemirror_mode": {
    "name": "ipython",
    "version": 3
   },
   "file_extension": ".py",
   "mimetype": "text/x-python",
   "name": "python",
   "nbconvert_exporter": "python",
   "pygments_lexer": "ipython3",
   "version": "3.11.1"
  },
  "orig_nbformat": 4,
  "vscode": {
   "interpreter": {
    "hash": "8b8334dab9339717f727a1deaf837b322d7a41c20d15cc86be99a8e69ceec8ce"
   }
  }
 },
 "nbformat": 4,
 "nbformat_minor": 2
}
